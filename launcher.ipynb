{
 "cells": [
  {
   "cell_type": "markdown",
   "metadata": {},
   "source": [
    "# Kingswar Launcher"
   ]
  },
  {
   "cell_type": "markdown",
   "metadata": {},
   "source": [
    "## Install dependencies and import libraries"
   ]
  },
  {
   "cell_type": "code",
   "execution_count": 1,
   "metadata": {},
   "outputs": [
    {
     "name": "stdout",
     "output_type": "stream",
     "text": [
      "Requirement already satisfied: qiskit in /opt/homebrew/lib/python3.11/site-packages (0.45.0)\n",
      "Requirement already satisfied: qiskit-terra==0.45.0 in /opt/homebrew/lib/python3.11/site-packages (from qiskit) (0.45.0)\n",
      "Requirement already satisfied: rustworkx>=0.13.0 in /opt/homebrew/lib/python3.11/site-packages (from qiskit-terra==0.45.0->qiskit) (0.13.2)\n",
      "Requirement already satisfied: numpy<2,>=1.17 in /opt/homebrew/lib/python3.11/site-packages (from qiskit-terra==0.45.0->qiskit) (1.26.2)\n",
      "Requirement already satisfied: ply>=3.10 in /opt/homebrew/lib/python3.11/site-packages (from qiskit-terra==0.45.0->qiskit) (3.11)\n",
      "Requirement already satisfied: psutil>=5 in /opt/homebrew/lib/python3.11/site-packages (from qiskit-terra==0.45.0->qiskit) (5.9.6)\n",
      "Requirement already satisfied: scipy>=1.5 in /opt/homebrew/lib/python3.11/site-packages (from qiskit-terra==0.45.0->qiskit) (1.11.4)\n",
      "Requirement already satisfied: sympy>=1.3 in /opt/homebrew/lib/python3.11/site-packages (from qiskit-terra==0.45.0->qiskit) (1.12)\n",
      "Requirement already satisfied: dill>=0.3 in /opt/homebrew/lib/python3.11/site-packages (from qiskit-terra==0.45.0->qiskit) (0.3.7)\n",
      "Requirement already satisfied: python-dateutil>=2.8.0 in /opt/homebrew/lib/python3.11/site-packages (from qiskit-terra==0.45.0->qiskit) (2.8.2)\n",
      "Requirement already satisfied: stevedore>=3.0.0 in /opt/homebrew/lib/python3.11/site-packages (from qiskit-terra==0.45.0->qiskit) (5.1.0)\n",
      "Requirement already satisfied: symengine<0.10,>=0.9 in /opt/homebrew/lib/python3.11/site-packages (from qiskit-terra==0.45.0->qiskit) (0.9.2)\n",
      "Requirement already satisfied: six>=1.5 in /opt/homebrew/lib/python3.11/site-packages (from python-dateutil>=2.8.0->qiskit-terra==0.45.0->qiskit) (1.16.0)\n",
      "Requirement already satisfied: pbr!=2.1.0,>=2.0.0 in /opt/homebrew/lib/python3.11/site-packages (from stevedore>=3.0.0->qiskit-terra==0.45.0->qiskit) (6.0.0)\n",
      "Requirement already satisfied: mpmath>=0.19 in /opt/homebrew/lib/python3.11/site-packages (from sympy>=1.3->qiskit-terra==0.45.0->qiskit) (1.3.0)\n",
      "Note: you may need to restart the kernel to use updated packages.\n"
     ]
    }
   ],
   "source": [
    "%pip install qiskit"
   ]
  },
  {
   "cell_type": "code",
   "execution_count": 2,
   "metadata": {},
   "outputs": [
    {
     "name": "stdout",
     "output_type": "stream",
     "text": [
      "Requirement already satisfied: qiskit-aer in /opt/homebrew/lib/python3.11/site-packages (0.13.1)\n",
      "Requirement already satisfied: qiskit>=0.44.0 in /opt/homebrew/lib/python3.11/site-packages (from qiskit-aer) (0.45.0)\n",
      "Requirement already satisfied: numpy>=1.16.3 in /opt/homebrew/lib/python3.11/site-packages (from qiskit-aer) (1.26.2)\n",
      "Requirement already satisfied: scipy>=1.0 in /opt/homebrew/lib/python3.11/site-packages (from qiskit-aer) (1.11.4)\n",
      "Requirement already satisfied: psutil>=5 in /opt/homebrew/lib/python3.11/site-packages (from qiskit-aer) (5.9.6)\n",
      "Requirement already satisfied: qiskit-terra==0.45.0 in /opt/homebrew/lib/python3.11/site-packages (from qiskit>=0.44.0->qiskit-aer) (0.45.0)\n",
      "Requirement already satisfied: rustworkx>=0.13.0 in /opt/homebrew/lib/python3.11/site-packages (from qiskit-terra==0.45.0->qiskit>=0.44.0->qiskit-aer) (0.13.2)\n",
      "Requirement already satisfied: ply>=3.10 in /opt/homebrew/lib/python3.11/site-packages (from qiskit-terra==0.45.0->qiskit>=0.44.0->qiskit-aer) (3.11)\n",
      "Requirement already satisfied: sympy>=1.3 in /opt/homebrew/lib/python3.11/site-packages (from qiskit-terra==0.45.0->qiskit>=0.44.0->qiskit-aer) (1.12)\n",
      "Requirement already satisfied: dill>=0.3 in /opt/homebrew/lib/python3.11/site-packages (from qiskit-terra==0.45.0->qiskit>=0.44.0->qiskit-aer) (0.3.7)\n",
      "Requirement already satisfied: python-dateutil>=2.8.0 in /opt/homebrew/lib/python3.11/site-packages (from qiskit-terra==0.45.0->qiskit>=0.44.0->qiskit-aer) (2.8.2)\n",
      "Requirement already satisfied: stevedore>=3.0.0 in /opt/homebrew/lib/python3.11/site-packages (from qiskit-terra==0.45.0->qiskit>=0.44.0->qiskit-aer) (5.1.0)\n",
      "Requirement already satisfied: symengine<0.10,>=0.9 in /opt/homebrew/lib/python3.11/site-packages (from qiskit-terra==0.45.0->qiskit>=0.44.0->qiskit-aer) (0.9.2)\n",
      "Requirement already satisfied: six>=1.5 in /opt/homebrew/lib/python3.11/site-packages (from python-dateutil>=2.8.0->qiskit-terra==0.45.0->qiskit>=0.44.0->qiskit-aer) (1.16.0)\n",
      "Requirement already satisfied: pbr!=2.1.0,>=2.0.0 in /opt/homebrew/lib/python3.11/site-packages (from stevedore>=3.0.0->qiskit-terra==0.45.0->qiskit>=0.44.0->qiskit-aer) (6.0.0)\n",
      "Requirement already satisfied: mpmath>=0.19 in /opt/homebrew/lib/python3.11/site-packages (from sympy>=1.3->qiskit-terra==0.45.0->qiskit>=0.44.0->qiskit-aer) (1.3.0)\n",
      "Note: you may need to restart the kernel to use updated packages.\n"
     ]
    }
   ],
   "source": [
    "%pip install qiskit-aer"
   ]
  },
  {
   "cell_type": "markdown",
   "metadata": {},
   "source": [
    "## Load the Game"
   ]
  },
  {
   "cell_type": "code",
   "execution_count": 1,
   "metadata": {},
   "outputs": [
    {
     "name": "stdout",
     "output_type": "stream",
     "text": [
      "******************\n",
      "1| R |   |   |   |\n",
      "2|   | K |   |   |\n",
      "3|   |   |   |   |\n",
      "4|   |   | \u001b[34mK\u001b[0m |   |\n",
      "5|   |   |   | \u001b[34mR\u001b[0m |\n",
      "   A   B   C   D  \n",
      "******************\n",
      "Turn: white\n",
      "[14]\n",
      "Turn: white\n"
     ]
    },
    {
     "ename": "KeyboardInterrupt",
     "evalue": "Interrupted by user",
     "output_type": "error",
     "traceback": [
      "\u001b[0;31m---------------------------------------------------------------------------\u001b[0m",
      "\u001b[0;31mKeyboardInterrupt\u001b[0m                         Traceback (most recent call last)",
      "File \u001b[0;32m~/Documents/Code/Kingswar-Refactored/chess.py:44\u001b[0m\n\u001b[1;32m     38\u001b[0m         \u001b[39mprint\u001b[39m(start)\n\u001b[1;32m     43\u001b[0m \u001b[39mif\u001b[39;00m \u001b[39m__name__\u001b[39m \u001b[39m==\u001b[39m \u001b[39m\"\u001b[39m\u001b[39m__main__\u001b[39m\u001b[39m\"\u001b[39m:\n\u001b[0;32m---> 44\u001b[0m     main()\n",
      "File \u001b[0;32m~/Documents/Code/Kingswar-Refactored/chess.py:36\u001b[0m, in \u001b[0;36mmain\u001b[0;34m()\u001b[0m\n\u001b[1;32m     34\u001b[0m \u001b[39mwhile\u001b[39;00m \u001b[39mTrue\u001b[39;00m:\n\u001b[1;32m     35\u001b[0m     \u001b[39mprint\u001b[39m(\u001b[39m\"\u001b[39m\u001b[39mTurn: \u001b[39m\u001b[39m\"\u001b[39m \u001b[39m+\u001b[39m chess\u001b[39m.\u001b[39mturn)\n\u001b[0;32m---> 36\u001b[0m     start \u001b[39m=\u001b[39m board\u001b[39m.\u001b[39malphanum_to_index(\u001b[39minput\u001b[39;49m(\u001b[39m\"\u001b[39;49m\u001b[39mFrom: \u001b[39;49m\u001b[39m\"\u001b[39;49m))\n\u001b[1;32m     37\u001b[0m     end \u001b[39m=\u001b[39m board\u001b[39m.\u001b[39malphanum_to_index(\u001b[39minput\u001b[39m(\u001b[39m\"\u001b[39m\u001b[39mTo: \u001b[39m\u001b[39m\"\u001b[39m))\n\u001b[1;32m     38\u001b[0m     \u001b[39mprint\u001b[39m(start)\n",
      "File \u001b[0;32m~/Library/Python/3.11/lib/python/site-packages/ipykernel/kernelbase.py:1261\u001b[0m, in \u001b[0;36mKernel.raw_input\u001b[0;34m(self, prompt)\u001b[0m\n\u001b[1;32m   1259\u001b[0m     msg \u001b[39m=\u001b[39m \u001b[39m\"\u001b[39m\u001b[39mraw_input was called, but this frontend does not support input requests.\u001b[39m\u001b[39m\"\u001b[39m\n\u001b[1;32m   1260\u001b[0m     \u001b[39mraise\u001b[39;00m StdinNotImplementedError(msg)\n\u001b[0;32m-> 1261\u001b[0m \u001b[39mreturn\u001b[39;00m \u001b[39mself\u001b[39;49m\u001b[39m.\u001b[39;49m_input_request(\n\u001b[1;32m   1262\u001b[0m     \u001b[39mstr\u001b[39;49m(prompt),\n\u001b[1;32m   1263\u001b[0m     \u001b[39mself\u001b[39;49m\u001b[39m.\u001b[39;49m_parent_ident[\u001b[39m\"\u001b[39;49m\u001b[39mshell\u001b[39;49m\u001b[39m\"\u001b[39;49m],\n\u001b[1;32m   1264\u001b[0m     \u001b[39mself\u001b[39;49m\u001b[39m.\u001b[39;49mget_parent(\u001b[39m\"\u001b[39;49m\u001b[39mshell\u001b[39;49m\u001b[39m\"\u001b[39;49m),\n\u001b[1;32m   1265\u001b[0m     password\u001b[39m=\u001b[39;49m\u001b[39mFalse\u001b[39;49;00m,\n\u001b[1;32m   1266\u001b[0m )\n",
      "File \u001b[0;32m~/Library/Python/3.11/lib/python/site-packages/ipykernel/kernelbase.py:1304\u001b[0m, in \u001b[0;36mKernel._input_request\u001b[0;34m(self, prompt, ident, parent, password)\u001b[0m\n\u001b[1;32m   1301\u001b[0m \u001b[39mexcept\u001b[39;00m \u001b[39mKeyboardInterrupt\u001b[39;00m:\n\u001b[1;32m   1302\u001b[0m     \u001b[39m# re-raise KeyboardInterrupt, to truncate traceback\u001b[39;00m\n\u001b[1;32m   1303\u001b[0m     msg \u001b[39m=\u001b[39m \u001b[39m\"\u001b[39m\u001b[39mInterrupted by user\u001b[39m\u001b[39m\"\u001b[39m\n\u001b[0;32m-> 1304\u001b[0m     \u001b[39mraise\u001b[39;00m \u001b[39mKeyboardInterrupt\u001b[39;00m(msg) \u001b[39mfrom\u001b[39;00m \u001b[39mNone\u001b[39;00m\n\u001b[1;32m   1305\u001b[0m \u001b[39mexcept\u001b[39;00m \u001b[39mException\u001b[39;00m:\n\u001b[1;32m   1306\u001b[0m     \u001b[39mself\u001b[39m\u001b[39m.\u001b[39mlog\u001b[39m.\u001b[39mwarning(\u001b[39m\"\u001b[39m\u001b[39mInvalid Message:\u001b[39m\u001b[39m\"\u001b[39m, exc_info\u001b[39m=\u001b[39m\u001b[39mTrue\u001b[39;00m)\n",
      "\u001b[0;31mKeyboardInterrupt\u001b[0m: Interrupted by user"
     ]
    }
   ],
   "source": [
    "%run chess.py"
   ]
  }
 ],
 "metadata": {
  "kernelspec": {
   "display_name": "Python 3",
   "language": "python",
   "name": "python3"
  },
  "language_info": {
   "codemirror_mode": {
    "name": "ipython",
    "version": 3
   },
   "file_extension": ".py",
   "mimetype": "text/x-python",
   "name": "python",
   "nbconvert_exporter": "python",
   "pygments_lexer": "ipython3",
   "version": "3.11.5"
  }
 },
 "nbformat": 4,
 "nbformat_minor": 2
}
